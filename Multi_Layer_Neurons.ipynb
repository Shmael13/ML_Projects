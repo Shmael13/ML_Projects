{
  "cells": [
    {
      "cell_type": "markdown",
      "id": "9093f480-ab3a-4036-96de-8be46b31f626",
      "metadata": {
        "id": "9093f480-ab3a-4036-96de-8be46b31f626"
      },
      "source": [
        "# Multi Layer Neuron Design"
      ]
    },
    {
      "cell_type": "code",
      "execution_count": null,
      "id": "b4b70c43-cac8-4a1e-a4bc-cacc446586ab",
      "metadata": {
        "id": "b4b70c43-cac8-4a1e-a4bc-cacc446586ab"
      },
      "outputs": [],
      "source": [
        "class MutliLayerNeuron(object):\n",
        ""
      ]
    },
    {
      "cell_type": "code",
      "execution_count": null,
      "id": "7cf3c878-b868-41bc-9e7b-ba5d6b37ffe1",
      "metadata": {
        "id": "7cf3c878-b868-41bc-9e7b-ba5d6b37ffe1"
      },
      "outputs": [],
      "source": []
    }
  ],
  "metadata": {
    "kernelspec": {
      "display_name": "Python 3 (ipykernel)",
      "language": "python",
      "name": "python3"
    },
    "language_info": {
      "codemirror_mode": {
        "name": "ipython",
        "version": 3
      },
      "file_extension": ".py",
      "mimetype": "text/x-python",
      "name": "python",
      "nbconvert_exporter": "python",
      "pygments_lexer": "ipython3",
      "version": "3.12.7"
    },
    "colab": {
      "provenance": []
    }
  },
  "nbformat": 4,
  "nbformat_minor": 5
}