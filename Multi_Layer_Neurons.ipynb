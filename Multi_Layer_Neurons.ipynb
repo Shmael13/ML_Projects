{
  "cells": [
    {
      "cell_type": "markdown",
      "id": "9093f480-ab3a-4036-96de-8be46b31f626",
      "metadata": {
        "id": "9093f480-ab3a-4036-96de-8be46b31f626"
      },
      "source": [
        "# Multi Layer Neuron Design"
      ]
    },
    {
      "cell_type": "code",
      "execution_count": 28,
      "id": "b4b70c43-cac8-4a1e-a4bc-cacc446586ab",
      "metadata": {
        "id": "b4b70c43-cac8-4a1e-a4bc-cacc446586ab"
      },
      "outputs": [],
      "source": [
        "import numpy as np\n",
        "import pandas as pd\n",
        "class MutliLayerNeuron(object):\n",
        "  def __init__(self, activation_func, activation_derivative_func, cost_func, layers=[784, 40, 60, 10]):\n",
        "    self.d_activation = activation_derivative_func\n",
        "    self.activation = activation_func\n",
        "    self.cost_func = cost_func\n",
        "    self.layers = layers\n",
        "    self.W, self.B = init_weights(layers)\n",
        "\n",
        "  def init_weights(layers):\n",
        "    weights = [[0.0]]\n",
        "    biases = [[0.0]]\n",
        "    for i in range(1, len(layers)):\n",
        "      w_temp = np.random.randn(layers[i]. layers[i-1])\n",
        "      b_temp = np.random.randn(layers[i], 1)\n",
        "\n",
        "      weights.append(w_temp)\n",
        "      biases.append(b_temp)\n",
        "    return weights, biases\n",
        "\n",
        "  def forward_pass(self, xi):\n",
        "    Z = [[0.0]]\n",
        "    A = [xi]\n",
        "    #0th weight is 0.0\n",
        "    for i in range(1, len(self.W)):\n",
        "      z = self.W[i] @ A[i-1] + self.B[i]\n",
        "      a = self.activation(z)\n",
        "      Z.append(z)\n",
        "      A.append(a)\n",
        "    return Z, A"
      ]
    },
    {
      "cell_type": "code",
      "execution_count": null,
      "id": "7cf3c878-b868-41bc-9e7b-ba5d6b37ffe1",
      "metadata": {
        "id": "7cf3c878-b868-41bc-9e7b-ba5d6b37ffe1"
      },
      "outputs": [],
      "source": []
    }
  ],
  "metadata": {
    "kernelspec": {
      "display_name": "Python 3 (ipykernel)",
      "language": "python",
      "name": "python3"
    },
    "language_info": {
      "codemirror_mode": {
        "name": "ipython",
        "version": 3
      },
      "file_extension": ".py",
      "mimetype": "text/x-python",
      "name": "python",
      "nbconvert_exporter": "python",
      "pygments_lexer": "ipython3",
      "version": "3.12.7"
    },
    "colab": {
      "provenance": []
    }
  },
  "nbformat": 4,
  "nbformat_minor": 5
}